{
 "cells": [
  {
   "cell_type": "markdown",
   "metadata": {},
   "source": [
    "### Ejercicio en Clase"
   ]
  },
  {
   "cell_type": "code",
   "execution_count": 1,
   "metadata": {},
   "outputs": [
    {
     "name": "stdout",
     "output_type": "stream",
     "text": [
      "hola a todos\n"
     ]
    }
   ],
   "source": [
    "a=\"hola a todos\"\n",
    "print(a)"
   ]
  },
  {
   "cell_type": "code",
   "execution_count": 2,
   "metadata": {},
   "outputs": [
    {
     "name": "stdout",
     "output_type": "stream",
     "text": [
      "hola\n",
      "Como estan\n"
     ]
    }
   ],
   "source": [
    "a=\"\"\"hola\n",
    "Como estan\"\"\"\n",
    "print(a)"
   ]
  },
  {
   "cell_type": "markdown",
   "metadata": {},
   "source": [
    "Variables"
   ]
  },
  {
   "cell_type": "code",
   "execution_count": 3,
   "metadata": {},
   "outputs": [],
   "source": [
    "numero=4\n",
    "miString= \"Hola\" #esto es un comentario\n",
    "miBool=True"
   ]
  },
  {
   "cell_type": "code",
   "execution_count": 6,
   "metadata": {},
   "outputs": [
    {
     "name": "stdout",
     "output_type": "stream",
     "text": [
      "Hola a todos, mi edad es: 29\n"
     ]
    }
   ],
   "source": [
    "edad=29\n",
    "print(\"Hola a todos, mi edad es:\", edad)"
   ]
  },
  {
   "cell_type": "code",
   "execution_count": 7,
   "metadata": {},
   "outputs": [
    {
     "name": "stdout",
     "output_type": "stream",
     "text": [
      "Hola a todos mi nombre es Kimberly y mi edad es 29\n"
     ]
    }
   ],
   "source": [
    "nombre = \"Kimberly\"\n",
    "print(f\"Hola a todos mi nombre es {nombre} y mi edad es {edad}\")"
   ]
  },
  {
   "cell_type": "code",
   "execution_count": 8,
   "metadata": {},
   "outputs": [
    {
     "name": "stdout",
     "output_type": "stream",
     "text": [
      "SELECT * FROM empleado\n",
      "    WHERE salario >= 25000 AND estado = Finanzas \n"
     ]
    }
   ],
   "source": [
    "salario=25000\n",
    "depl=\"Finanzas\"\n",
    "miQuery= \"\"\"SELECT * FROM empleado\n",
    "    WHERE salario >= {} AND estado = {} \"\"\".format(salario,depl)\n",
    "print(miQuery)"
   ]
  },
  {
   "cell_type": "code",
   "execution_count": 10,
   "metadata": {},
   "outputs": [
    {
     "name": "stdout",
     "output_type": "stream",
     "text": [
      "Hola, Santos, esto es Python\n"
     ]
    }
   ],
   "source": [
    "nombre= input(\"Ingrese su nombre\")\n",
    "print(f\"Hola, {nombre}, esto es Python\")"
   ]
  },
  {
   "cell_type": "markdown",
   "metadata": {},
   "source": [
    "# Strings"
   ]
  },
  {
   "cell_type": "code",
   "execution_count": 14,
   "metadata": {},
   "outputs": [
    {
     "data": {
      "text/plain": [
       "13"
      ]
     },
     "execution_count": 14,
     "metadata": {},
     "output_type": "execute_result"
    }
   ],
   "source": [
    "a= \"Santos Chicol\"\n",
    "a[0:6]\n",
    "len(a)"
   ]
  },
  {
   "cell_type": "markdown",
   "metadata": {},
   "source": [
    "# Control de Flujo"
   ]
  },
  {
   "cell_type": "code",
   "execution_count": 16,
   "metadata": {},
   "outputs": [
    {
     "data": {
      "text/plain": [
       "True"
      ]
     },
     "execution_count": 16,
     "metadata": {},
     "output_type": "execute_result"
    }
   ],
   "source": [
    "43==34\n",
    "43==43"
   ]
  },
  {
   "cell_type": "code",
   "execution_count": 18,
   "metadata": {},
   "outputs": [
    {
     "name": "stdout",
     "output_type": "stream",
     "text": [
      "El numero no es cero\n"
     ]
    }
   ],
   "source": [
    "numero = int(input(\"Ingrese un numero: \"))\n",
    "if numero != 0:\n",
    "    print(\"El numero no es cero\")\n",
    "else:\n",
    "    print(\"El numero es cero\")\n"
   ]
  },
  {
   "cell_type": "code",
   "execution_count": 21,
   "metadata": {},
   "outputs": [
    {
     "name": "stdout",
     "output_type": "stream",
     "text": [
      "El dia es jueves\n"
     ]
    }
   ],
   "source": [
    "dia = int(input(\"Ingrese el numero de dia:\"))\n",
    "\n",
    "if dia >= 1 and dia <= 7:\n",
    "    if dia == 1:\n",
    "        print(\"El dia es lunes\")\n",
    "    elif dia == 2:\n",
    "        print(\"El dia es martes\")\n",
    "    elif dia == 3:\n",
    "        print(\"El dia es miercoles\")\n",
    "    elif dia == 4:\n",
    "        print(\"El dia es jueves\")\n",
    "    elif dia == 5:\n",
    "        print(\"El dia es viernes\")\n",
    "    elif dia == 6:\n",
    "        print(\"El dia es sabado\")\n",
    "    elif dia == 7:\n",
    "        print(\"El dia es domingo\")\n",
    "else:\n",
    "    print(\"El numero de dia ingresado no es valido\")"
   ]
  },
  {
   "cell_type": "markdown",
   "metadata": {},
   "source": [
    "# Listas"
   ]
  },
  {
   "cell_type": "code",
   "execution_count": 2,
   "metadata": {},
   "outputs": [],
   "source": [
    "lista=[10,20,30,40,50,60]\n",
    "#1 Es dinamica\n",
    "#2 alamacena diferentes tipos de datos"
   ]
  },
  {
   "cell_type": "code",
   "execution_count": 3,
   "metadata": {},
   "outputs": [
    {
     "data": {
      "text/plain": [
       "6"
      ]
     },
     "execution_count": 3,
     "metadata": {},
     "output_type": "execute_result"
    }
   ],
   "source": [
    "lista[4]\n",
    "lista[4:]\n",
    "len(lista)"
   ]
  },
  {
   "cell_type": "code",
   "execution_count": 4,
   "metadata": {},
   "outputs": [],
   "source": [
    "lista.append('Data')"
   ]
  },
  {
   "cell_type": "code",
   "execution_count": 5,
   "metadata": {},
   "outputs": [],
   "source": [
    "lista.insert(3, 'UMG')"
   ]
  },
  {
   "cell_type": "code",
   "execution_count": 6,
   "metadata": {},
   "outputs": [
    {
     "data": {
      "text/plain": [
       "[10, 20, 30, 'UMG', 40, 50, 60, 'Data']"
      ]
     },
     "execution_count": 6,
     "metadata": {},
     "output_type": "execute_result"
    }
   ],
   "source": [
    "lista"
   ]
  },
  {
   "cell_type": "markdown",
   "metadata": {},
   "source": [
    "# Eliminar elementos de una lista"
   ]
  },
  {
   "cell_type": "code",
   "execution_count": 28,
   "metadata": {},
   "outputs": [],
   "source": [
    "del lista [3] #Eliminar por posicion"
   ]
  },
  {
   "cell_type": "code",
   "execution_count": 30,
   "metadata": {},
   "outputs": [],
   "source": [
    "lista.remove('Data') #Eliminar por valor"
   ]
  },
  {
   "cell_type": "code",
   "execution_count": 31,
   "metadata": {},
   "outputs": [
    {
     "name": "stdout",
     "output_type": "stream",
     "text": [
      "Horas: 0 - Minutos : 1 - Segundos : 0\n"
     ]
    }
   ],
   "source": [
    "Segundos= int(input(\"Ingrese los segundos\"))\n",
    "\n",
    "Horas= Segundos // (60*60)\n",
    "Segundos= Segundos % (60*60)\n",
    "Minutos= Segundos //(60)\n",
    "Segundos= Segundos % (60)\n",
    "\n",
    "print('Horas: {} - Minutos : {} - Segundos : {}'.format(Horas,Minutos,Segundos))"
   ]
  },
  {
   "cell_type": "code",
   "execution_count": 35,
   "metadata": {},
   "outputs": [
    {
     "name": "stdout",
     "output_type": "stream",
     "text": [
      "Tienes 20 años -9 meses y 4 dias\n"
     ]
    }
   ],
   "source": [
    "from datetime import datetime\n",
    "\n",
    "dia= int(input(\"Introduce el dia actual:\"))\n",
    "mes= int(input(\"Introduce el mes actual:\"))\n",
    "año= int(input(\"Introduce el año actual:\"))\n",
    "\n",
    "dia_aniversario= int(input(\"Introduce el dia de tu nacimiento\"))\n",
    "mes_aniversario= int(input(\"Introduce el mes de tu nacimiento\"))\n",
    "año_aniversario= int(input(\"Introduce el año de tu nacimiento\"))\n",
    "\n",
    "resultado_dia= dia -dia_aniversario\n",
    "resultado_mes= mes - mes_aniversario\n",
    "resultado_año= año - año_aniversario\n",
    "\n",
    "print(\"Tienes\", resultado_año, \"años\", resultado_mes, \"meses\", \"y\", resultado_dia, \"dias\")"
   ]
  },
  {
   "cell_type": "markdown",
   "metadata": {},
   "source": [
    "# Comentarios Grupo 3\n",
    "## Emanuel Victoriano Leonel Ramírez Caal\n",
    "### Se trata de una herramienta muy interesante como entorno de ejecución de programas escritos en Python y otros lenguajes, muy utilizados en los campos de la investigación, el aprendizaje automático y la Inteligencia Artificial. Para explicar cómo realizar análisis de sentimiento sobre texto usando el lenguaje Python, la biblioteca NLTK “Natural Language Toolkit” y la herramienta JupyterLab para desarrollar nuestros scripts en Jupyter Notebook por lo que es una herramienta muy versátil y fácil de utilizar, así también contribuye al procesamiento rápido de una gran cantidad de datos según estos sean programados\n",
    "\n",
    "## José Miguel De Paz Calderón\n",
    "### La herramienta me pareció muy útil para la integración del kernel sin tener que involucrar tantos programas. Permite trabajar de manera unificada en un mismo espacio, lo cual resulta muy útil y amigable para nosotros como desarrolladores. La facilidad de trabajar en VSC nos brinda de igual manera la posibilidad de personalizar al máximo nuestra experiencia con la variedad de extensiones de nuestro agrado. La posibilidad de integrar paquetes, que se carguen con el kernel y escoger las versiones de desarrollo que ofrece Python dependiendo de qué necesitemos implementar también es una excelente ayuda para poder adaptarlo a la necesidad en cada trabajo que se desea realizar sin tener que modificarlo de una manera complicada.Para el manejo de altas cargas de volumen de datos en desarrollo de una manera eficaz y sencilla, es una herramienta a tener muy en cuenta.\n",
    "\n",
    "## Santos Evelio Chicol Bal\n",
    "### Me muy buena la utilizacon de Anaconda ya que es una plataforma muy popular para la ciencia de datos y el análisis numérico en Python, una manera conveniente de instalar Python ya que tiene paquetes y herramientas útiles para el desarrollo de software, una de ellas que se utilizo en este ejercicio fue Jupyter Notebook, lo que facilita una buena experencia, al combinarlas nos proporciona una buena interfaz y flexibilidad para escribir y ejecutar código Python, en esta archivo se codifico varias partes, para poder entender lo basico, de como utilizar python.\n",
    "\n",
    "## Rudy Joél Samol Xocop\n",
    "### Anaconda es un software que nos ayuda a trabajar con Python. Python es un lenguaje de programación popular que se usa en muchas áreas, como ciencia de datos, desarrollo web y automatización de tareas. Anaconda nos facilita la instalación y gestión de paquetes y entornos de Python, lo que hace que sea más fácil comenzar a programar y trabajar en proyectos Python.\n",
    "### Por ejemplo, supongamos que queremos desarrollar un programa para analizar datos del clima utilizando Python. Con Anaconda, podemos instalar rápidamente todas las bibliotecas y herramientas necesarias, como NumPy, pandas y Matplotlib, y crear un entorno de trabajo limpio y aislado para un proyecto que queramos. Esto nos permite escribir y ejecutar nuestro código de manera eficiente y sin preocuparte por problemas de compatibilidad o instalación de paquetes.\n",
    "\n",
    "## Glámiz Yadira Enríquez Reyes\n",
    "### El uso de Anaconda, Jupyter y Visual Studio Code es una fuerte combinación de personas que trabajan con Python. Anaconda proporciona una distribución completa de Python y herramientas básicas para la ciencia de datos y el análisis numérico, y Jupyter le permite crear documentos interactivos para explorar e implementar datos. Por otro lado, Visual Studio Code ofrece un entorno de desarrollo moderno y altamente personalizable con una fuerte integración con Python que facilita una codificación eficiente y efectiva. Juntas, estas herramientas brindan una experiencia completa para escribir código en Python, experimentar con datos ya que en lo que se realizo en este archivo fue muy interesante, como primer paso al conocer esa herramienta.\n",
    "\n"
   ]
  }
 ],
 "metadata": {
  "kernelspec": {
   "display_name": "Python 3.8.18 ('CursoFebreroSantos')",
   "language": "python",
   "name": "python3"
  },
  "language_info": {
   "codemirror_mode": {
    "name": "ipython",
    "version": 3
   },
   "file_extension": ".py",
   "mimetype": "text/x-python",
   "name": "python",
   "nbconvert_exporter": "python",
   "pygments_lexer": "ipython3",
   "version": "3.8.18"
  },
  "orig_nbformat": 4,
  "vscode": {
   "interpreter": {
    "hash": "7727c60b17fe7f1f3c6cf76496f8fe9ad843574c00d2294123ceb16b3f830442"
   }
  }
 },
 "nbformat": 4,
 "nbformat_minor": 2
}
